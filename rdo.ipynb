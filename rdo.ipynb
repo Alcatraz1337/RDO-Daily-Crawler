{
 "cells": [
  {
   "cell_type": "code",
   "execution_count": null,
   "metadata": {},
   "outputs": [],
   "source": [
    "import re\n",
    "import requests\n",
    "from bs4 import BeautifulSoup"
   ]
  },
  {
   "cell_type": "code",
   "execution_count": null,
   "metadata": {},
   "outputs": [],
   "source": [
    "date = input(\"Enter date (YYYY-MM-DD): \")\n",
    "\n",
    "url = \"https://rdodailies.com/?date=\"+date+\"&lang=zh\"\n",
    "url"
   ]
  },
  {
   "cell_type": "code",
   "execution_count": null,
   "metadata": {
    "tags": []
   },
   "outputs": [],
   "source": [
    "res = requests.get(url)\n",
    "res.encoding = 'utf-8'\n",
    "html = res.text"
   ]
  },
  {
   "cell_type": "code",
   "execution_count": null,
   "metadata": {
    "tags": []
   },
   "outputs": [],
   "source": [
    "soup = BeautifulSoup(html, 'html.parser')"
   ]
  },
  {
   "cell_type": "code",
   "execution_count": null,
   "metadata": {},
   "outputs": [],
   "source": [
    "allChallenges = soup.find_all('span', class_= 'challenge-input-container-label')\n",
    "allChallengeGoals = soup.find_all('span', class_= 'challenge-goal')\n",
    "\n",
    "for i in range(len(allChallenges)):\n",
    "    if len(re.split(r'[\\n]', allChallenges[i].label.get_text())) > 1:\n",
    "        print(re.split(r'[\\n]', allChallenges[i].label.get_text())[1],'：', re.split(r'[\\n]',allChallengeGoals[i].get_text())[1])\n",
    "    else:\n",
    "        print(re.split(r'[\\n]', allChallenges[i].label.get_text())[0],'：', re.split(r'[\\n]',allChallengeGoals[i].get_text())[1])"
   ]
  },
  {
   "cell_type": "code",
   "execution_count": null,
   "metadata": {},
   "outputs": [],
   "source": [
    "# Bounty hunterrs challenges\n",
    "f = open(\"D:\\Documents\\我的坚果云\\RDO 每日挑战\\Archive\\daily\"+date+'.txt', \"r\", encoding='utf-8')"
   ]
  },
  {
   "cell_type": "code",
   "execution_count": null,
   "metadata": {},
   "outputs": [],
   "source": [
    "with open(\"D:\\Documents\\我的坚果云\\RDO 每日挑战\\Archive\\daily\"+date+'-formated.txt','a', encoding='utf-8') as newFile:\n",
    "        for line in f.readlines():\n",
    "            if line != \"\\n\":\n",
    "                newFile.write(line)"
   ]
  },
  {
   "cell_type": "code",
   "execution_count": null,
   "metadata": {},
   "outputs": [],
   "source": [
    "re.split(r'[\\n]', allChallenges[0].label.get_text())[1]"
   ]
  },
  {
   "cell_type": "code",
   "execution_count": null,
   "metadata": {},
   "outputs": [],
   "source": [
    "soupC = BeautifulSoup(res.content, \"html.parser\")\n",
    "img_tag = soup.select(\"#nazar-location-container\")"
   ]
  },
  {
   "cell_type": "code",
   "execution_count": null,
   "metadata": {},
   "outputs": [],
   "source": [
    "print(img_tag[0].img.get('src'))"
   ]
  },
  {
   "cell_type": "code",
   "execution_count": null,
   "metadata": {},
   "outputs": [],
   "source": [
    "line = 5\n",
    "i = 0\n",
    "while i < line and line != 10:\n",
    "    i += 1\n",
    "    if (i % 2):\n",
    "        line += 1\n",
    "    print(\"i = \" + str(i) + \" line = \" + str(line))"
   ]
  },
  {
   "cell_type": "code",
   "execution_count": 100,
   "metadata": {},
   "outputs": [],
   "source": [
    "testFile = open('test.txt', \"r+\", encoding=\"utf-8\")"
   ]
  },
  {
   "cell_type": "code",
   "execution_count": 101,
   "metadata": {},
   "outputs": [],
   "source": [
    "text = testFile.readlines()"
   ]
  },
  {
   "cell_type": "code",
   "execution_count": 102,
   "metadata": {},
   "outputs": [
    {
     "data": {
      "text/plain": [
       "['剥取领西猯的皮 ： 1 \\n',\n",
       " '在决战中用弓箭爆头杀死的玩家 ： 1 \\n',\n",
       " '已在行驶中的火车上杀死飞鸟 ： 5 \\n',\n",
       " '已完成莎迪·阿德勒任务 ： 1 \\n',\n",
       " '已找到藏宝图或宝藏 ： 1 \\n',\n",
       " '已烹饪调味的大型猎物肉 ： 3 \\n',\n",
       " '已采集沙漠鼠尾草 ： 5 ']"
      ]
     },
     "execution_count": 102,
     "metadata": {},
     "output_type": "execute_result"
    }
   ],
   "source": [
    "text"
   ]
  },
  {
   "cell_type": "code",
   "execution_count": 103,
   "metadata": {},
   "outputs": [],
   "source": [
    "prev = \"\"\n",
    "after = []\n",
    "insert = \"\""
   ]
  },
  {
   "cell_type": "code",
   "execution_count": 87,
   "metadata": {},
   "outputs": [
    {
     "name": "stdout",
     "output_type": "stream",
     "text": [
      "\n",
      "['在决战中用弓箭爆头杀死的玩家 ： 1 \\n', '已在行驶中的火车上杀死飞鸟 ： 5 \\n', '已完成莎迪·阿德勒任务 ： 1 \\n', '已找到藏宝图或宝藏 ： 1 \\n', '已烹饪调味的大型猎物肉 ： 3 \\n', '已采集沙漠鼠尾草 ： 5 ']\n",
      "['剥取领西猯的皮 ： 1 \\n', '猪皮在……\\n', '在决战中用弓箭爆头杀死的玩家 ： 1 \\n', '已在行驶中的火车上杀死飞鸟 ： 5 \\n', '已完成莎迪·阿德勒任务 ： 1 \\n', '已找到藏宝图或宝藏 ： 1 \\n', '已烹饪调味的大型猎物肉 ： 3 \\n', '已采集沙漠鼠尾草 ： 5 ']\n"
     ]
    }
   ],
   "source": [
    "for i, d in enumerate(text, start = 1):\n",
    "    if d.find(\"剥取\") >= 0:\n",
    "        insert = \"猪皮在……\\n\"\n",
    "        after = text[i:]\n",
    "        text[i] = insert\n",
    "        text[i+1:] = after\n",
    "\n",
    "print(after)\n",
    "print(text)"
   ]
  },
  {
   "cell_type": "code",
   "execution_count": 104,
   "metadata": {},
   "outputs": [
    {
     "name": "stdout",
     "output_type": "stream",
     "text": [
      "['剥取领西猯的皮 ： 1 \\n', '猪皮在……\\n', '在决战中用弓箭爆头杀死的玩家 ： 1 \\n', '已在行驶中的火车上杀死飞鸟 ： 5 \\n', '已完成莎迪·阿德勒任务 ： 1 \\n', '已找到藏宝图或宝藏 ： 1 \\n', '已烹饪调味的大型猎物肉 ： 3 \\n', '已采集沙漠鼠尾草 ： 5 ']\n"
     ]
    }
   ],
   "source": [
    "i = 0\n",
    "while i < len(text):\n",
    "    if text[i].find(\"剥取\")>=0:\n",
    "        insert = \"猪皮在……\\n\"\n",
    "        after = text[i+1:]\n",
    "        text[i+1] = insert\n",
    "        text[i+2:] = after\n",
    "        i += 2\n",
    "    i+=1\n",
    "\n",
    "print(text)"
   ]
  },
  {
   "cell_type": "code",
   "execution_count": 111,
   "metadata": {},
   "outputs": [
    {
     "name": "stdout",
     "output_type": "stream",
     "text": [
      "2 abc\n"
     ]
    }
   ],
   "source": [
    "def increase(i):\n",
    "    i += 2\n",
    "    string = \"abc\"\n",
    "    return i, string\n",
    "\n",
    "a = 0\n",
    "a,b = increase(a)\n",
    "print(a,b)"
   ]
  },
  {
   "cell_type": "code",
   "execution_count": null,
   "metadata": {},
   "outputs": [],
   "source": []
  }
 ],
 "metadata": {
  "interpreter": {
   "hash": "125b22007be08dd2027b973e187b2f885018d6f022414bbea7d81220c46df43e"
  },
  "kernelspec": {
   "display_name": "Python 3.7.3 64-bit ('base': conda)",
   "name": "python3"
  },
  "language_info": {
   "codemirror_mode": {
    "name": "ipython",
    "version": 3
   },
   "file_extension": ".py",
   "mimetype": "text/x-python",
   "name": "python",
   "nbconvert_exporter": "python",
   "pygments_lexer": "ipython3",
   "version": "3.7.3"
  },
  "orig_nbformat": 4
 },
 "nbformat": 4,
 "nbformat_minor": 2
}
