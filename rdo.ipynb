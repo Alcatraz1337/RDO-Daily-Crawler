{
 "metadata": {
  "language_info": {
   "codemirror_mode": {
    "name": "ipython",
    "version": 3
   },
   "file_extension": ".py",
   "mimetype": "text/x-python",
   "name": "python",
   "nbconvert_exporter": "python",
   "pygments_lexer": "ipython3",
   "version": "3.7.3"
  },
  "orig_nbformat": 4,
  "kernelspec": {
   "name": "python3",
   "display_name": "Python 3.7.3 64-bit ('base': conda)"
  },
  "interpreter": {
   "hash": "125b22007be08dd2027b973e187b2f885018d6f022414bbea7d81220c46df43e"
  }
 },
 "nbformat": 4,
 "nbformat_minor": 2,
 "cells": [
  {
   "cell_type": "code",
   "execution_count": 2,
   "metadata": {},
   "outputs": [],
   "source": [
    "import re\n",
    "import requests\n",
    "from bs4 import BeautifulSoup"
   ]
  },
  {
   "cell_type": "code",
   "execution_count": 3,
   "metadata": {},
   "outputs": [
    {
     "output_type": "execute_result",
     "data": {
      "text/plain": [
       "'https://rdodailies.com/?date=2021-08-16&lang=zh'"
      ]
     },
     "metadata": {},
     "execution_count": 3
    }
   ],
   "source": [
    "date = input(\"Enter date (YYYY-MM-DD): \")\n",
    "\n",
    "url = \"https://rdodailies.com/?date=\"+date+\"&lang=zh\"\n",
    "url"
   ]
  },
  {
   "cell_type": "code",
   "execution_count": 4,
   "metadata": {
    "tags": []
   },
   "outputs": [],
   "source": [
    "res = requests.get(url)\n",
    "res.encoding = 'utf-8'\n",
    "html = res.text"
   ]
  },
  {
   "cell_type": "code",
   "execution_count": 5,
   "metadata": {
    "tags": []
   },
   "outputs": [],
   "source": [
    "soup = BeautifulSoup(html, 'html.parser')"
   ]
  },
  {
   "cell_type": "code",
   "execution_count": 7,
   "metadata": {},
   "outputs": [
    {
     "output_type": "stream",
     "name": "stdout",
     "text": [
      "剥取领西猯的皮 ： 1 \n在决战中用弓箭爆头杀死的玩家 ： 1 \n已在行驶中的火车上杀死飞鸟 ： 5 \n已完成莎迪·阿德勒任务 ： 1 \n已找到藏宝图或宝藏 ： 1 \n已烹饪调味的大型猎物肉 ： 3 \n已采集沙漠鼠尾草 ： 5 \n已从马背上用套索套下的悬赏目标 ： 1 \n已使用加强型套索捆绑的悬赏目标 ： 1 \n根据新汉诺威海报捕获的通缉犯 ： 1 \n已完成的中等（$ ： 1 \n已拍到活捉悬赏目标的照片 ： 2 \n已用追踪箭标记的悬赏目标 ： 1 \n已从马背上用套索套下的悬赏目标 ： 3 \n已在现实时间的 1 小时内完成悬赏任务 ： 2 \n根据西伊丽莎白海报捕获的通缉犯 ： 2 \n已从交易中赚取的金钱 ： $50 \n已出售给远方买家的货物 ： 1 \n已完成的上等品质营地炖汤配方 ： 1 \n已从交易中赚取的金钱 ： $100 \n已出售给当地买家的货物 ： 2 \n已向克里普斯捐赠的中型动物尸体 ： 5 \n已向克里普斯捐赠的中型动物尸体 ： 7 \n已向克里普斯捐赠的完美尸体 ： 6 \n已在任务中乘坐货运马车旅行的距离 ： 15838 \n已找到的传家宝 ： 1 \n已找到的硬币 ： 1 \n已找到的美国野花 ： 1 \n已发现的化石 ： 2 \n已找到的传家宝 ： 2 \n已找到的遗失珠宝 ： 2 \n已使用铁锨找到的收藏品 ： 3 \n已发现的化石 ： 3 \n已找到的硬币 ： 3 \n任务期间私酒马车行驶的距离 ： 1609 \n已向买方出售了一种私酒 ： 1 \n已完成私酒故事任务 ： 1 \n在剩余 4 分钟的情况下出售了私酒 ： 1 \n已完成私酒故事任务 ： 1 \n私酒酒吧：已跳舞 1 分钟 ： 1 \n出售的私酒至少有 18 瓶完好无损 ： 1 \n出售私酒赚取的金钱 ： $200 \n已完成特殊私酒配方 ： 1 \n已制作或使用融入补剂 ： 1 \n已采集农田动物样本 ： 1 \n已采集山地和草原动物样本 ： 1 \n已制作或使用融入补剂 ： 1 \n已在荒野营地进行制作或烹制 ： 5 \n已采集沙漠动物样本 ： 2 \n已使用信息素寻找一只传说动物 ： 2 \n已唤醒被麻醉的动物 ： 2 \n已采集沙漠动物样本 ： 3 \n"
     ]
    }
   ],
   "source": [
    "allChallenges = soup.find_all('span', class_= 'challenge-input-container-label')\n",
    "allChallengeGoals = soup.find_all('span', class_= 'challenge-goal')\n",
    "\n",
    "for i in range(len(allChallenges)):\n",
    "    if len(re.split(r'[\\n]', allChallenges[i].label.get_text())) > 1:\n",
    "        print(re.split(r'[\\n]', allChallenges[i].label.get_text())[1],'：', re.split(r'[\\n]',allChallengeGoals[i].get_text())[1])\n",
    "    else:\n",
    "        print(re.split(r'[\\n]', allChallenges[i].label.get_text())[0],'：', re.split(r'[\\n]',allChallengeGoals[i].get_text())[1])"
   ]
  },
  {
   "cell_type": "code",
   "execution_count": 8,
   "metadata": {},
   "outputs": [],
   "source": [
    "# Bounty hunterrs challenges\n",
    "f = open(\"D:\\Documents\\我的坚果云\\RDO 每日挑战\\Archive\\daily\"+date+'.txt', \"r\", encoding='utf-8')"
   ]
  },
  {
   "cell_type": "code",
   "execution_count": null,
   "metadata": {},
   "outputs": [],
   "source": [
    "with open(\"D:\\Documents\\我的坚果云\\RDO 每日挑战\\Archive\\daily\"+date+'-formated.txt','a', encoding='utf-8') as newFile:\n",
    "        for line in f.readlines():\n",
    "            if line != \"\\n\":\n",
    "                newFile.write(line)"
   ]
  },
  {
   "cell_type": "code",
   "execution_count": null,
   "metadata": {},
   "outputs": [],
   "source": [
    "re.split(r'[\\n]', allChallenges[0].label.get_text())[1]"
   ]
  },
  {
   "cell_type": "code",
   "execution_count": 31,
   "metadata": {},
   "outputs": [],
   "source": [
    "soupC = BeautifulSoup(res.content, \"html.parser\")\n",
    "img_tag = soup.select(\"#nazar-location-container\")"
   ]
  },
  {
   "cell_type": "code",
   "execution_count": 43,
   "metadata": {},
   "outputs": [
    {
     "output_type": "stream",
     "name": "stdout",
     "text": [
      "https://rdocdn.xyz/nazar/locations/580/mpsw_location_10.png\n"
     ]
    }
   ],
   "source": [
    "print(img_tag[0].img.get('src'))"
   ]
  },
  {
   "cell_type": "code",
   "execution_count": null,
   "metadata": {},
   "outputs": [],
   "source": []
  }
 ]
}